{
  "nbformat": 4,
  "nbformat_minor": 2,
  "metadata": {
    "colab": {
      "name": "04_01_listas_cicladas.ipynb",
      "provenance": [],
      "collapsed_sections": [],
      "authorship_tag": "ABX9TyPRH2Q1djKAICpFQhjqbfL9",
      "include_colab_link": true
    },
    "kernelspec": {
      "name": "python3",
      "display_name": "Python 3.8.6 64-bit"
    },
    "language_info": {
      "name": "python",
      "version": "3.8.6",
      "mimetype": "text/x-python",
      "codemirror_mode": {
        "name": "ipython",
        "version": 3
      },
      "pygments_lexer": "ipython3",
      "nbconvert_exporter": "python",
      "file_extension": ".py"
    },
    "interpreter": {
      "hash": "9334ca9c3f0af7274d3c2d31368b473b04b1c4cddd5298f3708d939c90041035"
    }
  },
  "cells": [
    {
      "cell_type": "markdown",
      "source": [
        "<a href=\"https://colab.research.google.com/github/IEXE-Tec/analisis_de_algoritmos/blob/main/04_clase_listas_enlazadas/04_01_listas_cicladas.ipynb\" target=\"_parent\"><img src=\"https://colab.research.google.com/assets/colab-badge.svg\" alt=\"Open In Colab\"/></a>"
      ],
      "metadata": {
        "id": "view-in-github",
        "colab_type": "text"
      }
    },
    {
      "cell_type": "markdown",
      "source": [
        "# Listas Ligadas Simples Cicladas"
      ],
      "metadata": {
        "id": "b0o8fMRspm82"
      }
    },
    {
      "cell_type": "markdown",
      "source": [
        "Dada una lista simple, revisar si contiene un cicllo.   \n",
        "**ciclo**: Cuando el apuntador de un nodo apunta a un algun nodo previo de la lista. "
      ],
      "metadata": {
        "id": "Kh4b8aW8ptgt"
      }
    },
    {
      "cell_type": "markdown",
      "source": [
        "**Condiciones**:\n",
        "+ La funcion recibira el nodo cabeza, apartir de ahi determinara si existe un ciclo.\n",
        "+ Usa la clase nodo que proporcionamos."
      ],
      "metadata": {
        "id": "iV-8J4XiyWn_"
      }
    },
    {
      "cell_type": "markdown",
      "source": [
        "**Ejemplo**:\n",
        "+ a -> b -> c -> a regresa `True` por que existe un ciclo (a->...c->a)\n",
        "+ a -> regresa `False` por que no hay ciclos."
      ],
      "metadata": {
        "id": "7M-rZWiNypt0"
      }
    },
    {
      "cell_type": "code",
      "execution_count": null,
      "source": [],
      "outputs": [],
      "metadata": {}
    },
    {
      "cell_type": "markdown",
      "source": [
        "## Problema"
      ],
      "metadata": {
        "id": "oZ8xsdxhqG-Z"
      }
    },
    {
      "cell_type": "code",
      "execution_count": 1,
      "source": [
        "class Nodo(object):\r\n",
        "\r\n",
        "  def __init__(self,valor):\r\n",
        "    self.valor = valor\r\n",
        "    self.signodo = None"
      ],
      "outputs": [],
      "metadata": {
        "id": "9M5tXGf8qJO8"
      }
    },
    {
      "cell_type": "markdown",
      "source": [
        "## Solucion"
      ],
      "metadata": {
        "id": "OfQcdWB7qU5I"
      }
    },
    {
      "cell_type": "code",
      "execution_count": 2,
      "source": [
        "    def __str__(self):\r\n",
        "        return str(self.__valor)\r\n",
        "\r\n",
        "    def getSiguiente(self):\r\n",
        "        return self.__signodo\r\n",
        "\r\n",
        "    def setSiguiente(self, signodo):\r\n",
        "        self.__signod0 = signodo\r\n",
        "\r\n",
        "    def getDato(self):\r\n",
        "        return self.__valor\r\n",
        "\r\n",
        "    def setDato(self, valor):\r\n",
        "        self.__valor = valor\r\n",
        "\r\n",
        "\r\n",
        "''''\r\n",
        "def revisar_ciclo(nodo):\r\n",
        "  ciclo = False\r\n",
        "\r\n",
        "  # Asegurate de regresar una varaible booleana\r\n",
        "  return ciclo\r\n",
        "'''"
      ],
      "outputs": [],
      "metadata": {
        "id": "1EMosLJ0qWPj"
      }
    },
    {
      "cell_type": "markdown",
      "source": [
        "## Evaluacion"
      ],
      "metadata": {
        "id": "4UxohgiErHDZ"
      }
    },
    {
      "cell_type": "code",
      "execution_count": 3,
      "source": [
        "# Ciclo en la lista\r\n",
        "a = Nodo(1)\r\n",
        "b = Nodo(2)\r\n",
        "c = Nodo(3)\r\n",
        "a.signodo = b\r\n",
        "b.signodo = c\r\n",
        "c.signodo = a\r\n",
        "\r\n",
        "\r\n",
        "# Lista sin ciclo\r\n",
        "aa = Nodo(1)\r\n",
        "bb = Nodo(2)\r\n",
        "cc = Nodo(3)\r\n",
        "aa.signodo = bb\r\n",
        "bb.signodo = cc\r\n"
      ],
      "outputs": [],
      "metadata": {
        "id": "_V4wpbERrKpP"
      }
    },
    {
      "cell_type": "code",
      "execution_count": 4,
      "source": [
        "import unittest\r\n",
        "\r\n",
        "class PruebaCiclos(unittest.TestCase):\r\n",
        "\r\n",
        "  def prueba(self, fun_solucion):\r\n",
        "    # Ciclo en la lista\r\n",
        "    a = Nodo(1)\r\n",
        "    b = Nodo(2)\r\n",
        "    c = Nodo(3)\r\n",
        "    a.signodo = b\r\n",
        "    b.signodo = c\r\n",
        "    c.signodo = a\r\n",
        "\r\n",
        "\r\n",
        "    # Lista sin ciclo\r\n",
        "    aa = Nodo(1)\r\n",
        "    bb = Nodo(2)\r\n",
        "    cc = Nodo(3)\r\n",
        "    aa.signodo = bb\r\n",
        "    bb.signodo = cc\r\n",
        "\r\n",
        "    dict_pruebas = {\r\n",
        "        1:(a, True),\r\n",
        "        2:(aa, False)\r\n",
        "    }\r\n",
        "\r\n",
        "    for p in dict_pruebas.values():\r\n",
        "      try:\r\n",
        "        sol = fun_solucion(nodo=p[0])\r\n",
        "        self.assertEqual(sol, p[1])\r\n",
        "      except AssertionError as e:\r\n",
        "        print(f'Fallo! nodo={p[0]},  output={sol}, esperada={p[1]}')\r\n",
        "    \r\n"
      ],
      "outputs": [],
      "metadata": {
        "id": "5uFR2mK_rlys"
      }
    },
    {
      "cell_type": "code",
      "execution_count": 5,
      "source": [
        "\r\n",
        "\r\n",
        "t = PruebaCiclos()\r\n",
        "t.prueba(revisar_ciclo)\r\n",
        "\r\n"
      ],
      "outputs": [
        {
          "output_type": "stream",
          "name": "stdout",
          "text": [
            "Fallo! nodo=<__main__.Nodo object at 0x000001BB3686C9A0>,  output=False, esperada=True\n"
          ]
        }
      ],
      "metadata": {
        "colab": {
          "base_uri": "https://localhost:8080/"
        },
        "id": "1cX2rf9JxKF0",
        "outputId": "83699a5a-bc83-455b-c190-8a62199dd2e4"
      }
    }
  ]
}