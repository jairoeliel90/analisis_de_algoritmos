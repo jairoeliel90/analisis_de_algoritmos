{
  "nbformat": 4,
  "nbformat_minor": 2,
  "metadata": {
    "colab": {
      "name": "04_02_lugar_revertido.ipynb",
      "provenance": [],
      "collapsed_sections": [],
      "authorship_tag": "ABX9TyNpaEnHRqMh5BlZyD56Mwq6",
      "include_colab_link": true
    },
    "kernelspec": {
      "name": "python3",
      "display_name": "Python 3"
    },
    "language_info": {
      "name": "python"
    }
  },
  "cells": [
    {
      "cell_type": "markdown",
      "source": [
        "<a href=\"https://colab.research.google.com/github/IEXE-Tec/analisis_de_algoritmos/blob/main/04_clase_listas_enlazadas/04_02_lugar_revertido.ipynb\" target=\"_parent\"><img src=\"https://colab.research.google.com/assets/colab-badge.svg\" alt=\"Open In Colab\"/></a>"
      ],
      "metadata": {
        "id": "view-in-github",
        "colab_type": "text"
      }
    },
    {
      "cell_type": "markdown",
      "source": [
        "# Lugar Revertido"
      ],
      "metadata": {
        "id": "MmUv7x-XxhAE"
      }
    },
    {
      "cell_type": "markdown",
      "source": [
        "Dado un nodo cabeza, y un entero `i`, devolver el objeto que se encuentra a `i` lugares de la cola. Piensa en el slicing `[-1]` de los arrays de python. La lista sera simple."
      ],
      "metadata": {
        "id": "6kNyU_3PyQAG"
      }
    },
    {
      "cell_type": "markdown",
      "source": [
        "**Condiciones**:\n",
        "+ Si `i` es mayor que el numero de nodos `n`, regresar la cabeza.\n",
        "+ La funcion recibira la cabeza de la lista `Nodo` y un entero `i`.\n",
        "+ Usa la clase `Nodo` que te proporcionamos.\n",
        "+ La funcion no recibira el valor de `0` o negativo.\n",
        "+ La lista no tendra ciclos, y estara bien definida."
      ],
      "metadata": {
        "id": "dKoNz4WO0cA4"
      }
    },
    {
      "cell_type": "markdown",
      "source": [
        "**Ejemplos**:\n",
        "Sea la lista a -> b -> c  \n",
        "Con valores 1, 2 ,3\n",
        "\n",
        "+ Si la funcion recibe `(a,2)`, deberia de regresar `2` que es el valor del nodo `b`  \n",
        "+ Si la funcion recibe `(a,1)`, deberia de regresar `3` que es el valor del nodo `c`\n",
        "+ Si la funcion recibe `(a,4)`, deberia de regresar `1` que es el valor del nodo `a`. Nota que es el caso donde el entero es mas grande que el numero de elementos.\n"
      ],
      "metadata": {
        "id": "pdDJNnxC0wRd"
      }
    },
    {
      "cell_type": "markdown",
      "source": [
        "## Solucion"
      ],
      "metadata": {
        "id": "jU7N7h411wna"
      }
    },
    {
      "cell_type": "code",
      "execution_count": null,
      "source": [
        "class Nodo:\r\n",
        "\r\n",
        "    def __init__(self, value):\r\n",
        "        self.valor = value\r\n",
        "        self.signodo  = None"
      ],
      "outputs": [],
      "metadata": {
        "id": "u2YlGlAm12tP"
      }
    },
    {
      "cell_type": "code",
      "execution_count": null,
      "source": [
        "\r\n",
        "def lugar_revertido(nodo, indice):\r\n",
        "  valor_a_regresar = None\r\n",
        "\r\n",
        "  return valor_a_regresar\r\n"
      ],
      "outputs": [],
      "metadata": {
        "id": "KCS1NviL1y35"
      }
    },
    {
      "cell_type": "markdown",
      "source": [
        "## Pruebas"
      ],
      "metadata": {
        "id": "O9ro429T3EDN"
      }
    },
    {
      "cell_type": "code",
      "execution_count": null,
      "source": [
        "import unittest\r\n",
        "\r\n",
        "class PruebaRevertida(unittest.TestCase):\r\n",
        "\r\n",
        "  def prueba(self, fun_solucion):\r\n",
        "    a = Nodo(1)\r\n",
        "    b = Nodo(2)\r\n",
        "    c = Nodo(3)\r\n",
        "    d = Nodo(4)\r\n",
        "    e = Nodo(5)\r\n",
        "\r\n",
        "    a.signodo = b\r\n",
        "    b.signodo = c\r\n",
        "    c.signodo = d\r\n",
        "    d.signodo = e\r\n",
        "\r\n",
        "    dict_pruebas = {\r\n",
        "        1:(a, 6, 1),\r\n",
        "        2: (a, 1, 5),\r\n",
        "    }\r\n",
        "    sol = 'Error, tu funcion no regresa nada'\r\n",
        "\r\n",
        "    for p in dict_pruebas.values():\r\n",
        "      try:\r\n",
        "        sol = fun_solucion(nodo=p[0], indice=p[1])\r\n",
        "        self.assertEqual(sol, p[2])\r\n",
        "      except AssertionError as e:\r\n",
        "        print(f'Fallo! nodo={p[0]}, indice={p[1]},  output={sol}, esperada={p[2]}')\r\n",
        "\r\n"
      ],
      "outputs": [],
      "metadata": {
        "id": "a-lTEKeC4Mfm"
      }
    },
    {
      "cell_type": "code",
      "execution_count": null,
      "source": [
        "t = PruebaRevertida()\r\n",
        "t.prueba(lugar_revertido)"
      ],
      "outputs": [
        {
          "output_type": "stream",
          "name": "stdout",
          "text": [
            "Fallo! nodo=<__main__.Nodo object at 0x7f87e6443310>, indice=6,  output=None, esperada=1\n",
            "Fallo! nodo=<__main__.Nodo object at 0x7f87e6443310>, indice=1,  output=None, esperada=5\n"
          ]
        }
      ],
      "metadata": {
        "colab": {
          "base_uri": "https://localhost:8080/"
        },
        "id": "8T8lq7iX4z7y",
        "outputId": "788dbd42-5f3c-4447-80a0-b4abef89b143"
      }
    }
  ]
}