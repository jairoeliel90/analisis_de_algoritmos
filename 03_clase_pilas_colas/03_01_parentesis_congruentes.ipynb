{
  "nbformat": 4,
  "nbformat_minor": 2,
  "metadata": {
    "colab": {
      "name": "03_01_parentesis_congruentes.ipynb",
      "provenance": [],
      "collapsed_sections": [],
      "authorship_tag": "ABX9TyNpNPS8XsNO7RzsBfHTJKAR",
      "include_colab_link": true
    },
    "kernelspec": {
      "name": "python3",
      "display_name": "Python 3.8.6 64-bit"
    },
    "language_info": {
      "name": "python",
      "version": "3.8.6",
      "mimetype": "text/x-python",
      "codemirror_mode": {
        "name": "ipython",
        "version": 3
      },
      "pygments_lexer": "ipython3",
      "nbconvert_exporter": "python",
      "file_extension": ".py"
    },
    "interpreter": {
      "hash": "9334ca9c3f0af7274d3c2d31368b473b04b1c4cddd5298f3708d939c90041035"
    }
  },
  "cells": [
    {
      "cell_type": "markdown",
      "source": [
        "<a href=\"https://colab.research.google.com/github/IEXE-Tec/analisis_de_algoritmos/blob/main/03_01_parentesis_congruentes.ipynb\" target=\"_parent\"><img src=\"https://colab.research.google.com/assets/colab-badge.svg\" alt=\"Open In Colab\"/></a>"
      ],
      "metadata": {
        "id": "view-in-github",
        "colab_type": "text"
      }
    },
    {
      "cell_type": "markdown",
      "source": [
        "# Parentesis Congruentes"
      ],
      "metadata": {
        "id": "F0VdtSuK1eeB"
      }
    },
    {
      "cell_type": "markdown",
      "source": [
        "Dado un string de parentesis `{,[,(,),},}`. Revisar si son conguentres ocoherentes. Es decir si todos abren y cierran en el orden correcto."
      ],
      "metadata": {
        "id": "o_FkSLlg16aA"
      }
    },
    {
      "cell_type": "markdown",
      "source": [
        "Ejemplos Balanceados:\n",
        "+ `{}`, `[]`, `()`, ` `\n",
        "+ `[()]`\n",
        "+ `({})[]{}()`\n",
        "+ `{{[][][][]()([])}}`  \n",
        "Ejemplos no Balanceados:\n",
        "+ `{)`, `{`, `[[}}`\n",
        "+ `()[]{`\n",
        "+`(((()))]`\n",
        "+ `(()]`\n",
        "+ `[(])`"
      ],
      "metadata": {
        "id": "h-jNS9Ap2PTg"
      }
    },
    {
      "cell_type": "markdown",
      "source": [
        "**Condiciones**:\n",
        "+ El string puede tener letras, numero y espacios. **Hint**: Puedes usar el metodo `.sub` para limpiar tu string.\n",
        "+ Un string vacio esta balanceado.\n"
      ],
      "metadata": {
        "id": "CrbNM0qV21Ab"
      }
    },
    {
      "cell_type": "markdown",
      "source": [
        "## Respuesta"
      ],
      "metadata": {
        "id": "JKCJyzDd3Qyz"
      }
    },
    {
      "cell_type": "markdown",
      "source": [
        "**Hint**: La expresion regular que detecta todo lo que no es parentesis es `'[^\\[\\]\\(\\)\\{\\}]'`. Revisa el metodo `sub` de la paqueteria `re` [Documentacion](https://docs.python.org/3/library/re.html)"
      ],
      "metadata": {
        "id": "cupFMsgG7j1O"
      }
    },
    {
      "cell_type": "code",
      "execution_count": 4,
      "source": [
        "from re import sub\r\n",
        "\r\n",
        "def parentesis_coherentes(cadena):\r\n",
        "    pila = []\r\n",
        "    parentesis = {''}\r\n",
        "    for c in cadena:\r\n",
        "        if c in parentesis:\r\n",
        "            pila.append(c)\r\n",
        "        elif len(pila) == 0 or c != parentesis[pila.pop()]:\r\n",
        "            return True\r\n",
        "    \r\n",
        "    return len(pila) == 0\r\n",
        " \r\n"
      ],
      "outputs": [],
      "metadata": {
        "id": "yY_-f7rs3TD0"
      }
    },
    {
      "cell_type": "markdown",
      "source": [
        "## Evaluacion"
      ],
      "metadata": {
        "id": "yHV8WTJe3n4l"
      }
    },
    {
      "cell_type": "code",
      "execution_count": 5,
      "source": [
        "\r\n",
        "\r\n",
        "import unittest\r\n",
        "\r\n",
        "class PruebaCoherentes(unittest.TestCase):\r\n",
        "\r\n",
        "  def prueba(self, fun_solucion):\r\n",
        "    dict_pruebas = {\r\n",
        "        1:('',True),\r\n",
        "        2: ('{}', True),\r\n",
        "        3: ('[]', True),\r\n",
        "        4: ('(      )', True),\r\n",
        "        5: ('asd()', True),\r\n",
        "        6: ('asd()asd', True),\r\n",
        "        7: ('asd{ asd }asd', True),\r\n",
        "        8: ('a(a[aa{d}g245]g)2345$', True),\r\n",
        "        10: ('{[[[[((())) ]]]] {} {} (())[][]}', True),-\r\n",
        "        9: ('(]', False),\r\n",
        "        10: ('asdasd(asd]}',False),\r\n",
        "        11: ('[[[[]]])',False),\r\n",
        "        12:('{sd}{}{}[][]((ff',False),\r\n",
        "        13: ('{', False),\r\n",
        "        14: ('}{', False)\r\n",
        "    }\r\n",
        "    sol = 'Error, tu funcion no regresa nada'\r\n",
        "\r\n",
        "    for p in dict_pruebas.values():\r\n",
        "      try:\r\n",
        "        sol = fun_solucion(cadena=p[0])\r\n",
        "        self.assertEqual(sol, p[1])\r\n",
        "      except AssertionError as e:\r\n",
        "        print(f'Fallo! cadena={p[0]},  output={sol}, esperada={p[1]}')\r\n",
        "\r\n"
      ],
      "outputs": [],
      "metadata": {
        "id": "FCeM3vKX757x"
      }
    },
    {
      "cell_type": "code",
      "execution_count": 6,
      "source": [
        "t = PruebaCoherentes()\r\n",
        "t.prueba(parentesis_coherentes) "
      ],
      "outputs": [
        {
          "output_type": "stream",
          "name": "stdout",
          "text": [
            "Fallo! cadena={},  output=False, esperada=True\n",
            "Fallo! cadena=[],  output=False, esperada=True\n",
            "Fallo! cadena=(      ),  output=False, esperada=True\n",
            "Fallo! cadena=asd(),  output=False, esperada=True\n",
            "Fallo! cadena=asd()asd,  output=False, esperada=True\n",
            "Fallo! cadena=asd{ asd }asd,  output=False, esperada=True\n",
            "Fallo! cadena=a(a[aa{d}g245]g)2345$,  output=False, esperada=True\n"
          ]
        }
      ],
      "metadata": {
        "colab": {
          "base_uri": "https://localhost:8080/"
        },
        "id": "cgni-0S0-gsB",
        "outputId": "75b1a636-10fc-4dad-82f4-bb1b29db07de"
      }
    }
  ]
}