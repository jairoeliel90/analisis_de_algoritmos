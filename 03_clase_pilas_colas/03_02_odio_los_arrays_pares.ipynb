{
  "nbformat": 4,
  "nbformat_minor": 2,
  "metadata": {
    "colab": {
      "name": "03_02_odio_los_arrays_pares.ipynb",
      "provenance": [],
      "collapsed_sections": [],
      "authorship_tag": "ABX9TyNV7R3DIqYYPolq2rc0K/2f",
      "include_colab_link": true
    },
    "kernelspec": {
      "name": "python3",
      "display_name": "Python 3.8.6 64-bit"
    },
    "language_info": {
      "name": "python",
      "version": "3.8.6",
      "mimetype": "text/x-python",
      "codemirror_mode": {
        "name": "ipython",
        "version": 3
      },
      "pygments_lexer": "ipython3",
      "nbconvert_exporter": "python",
      "file_extension": ".py"
    },
    "interpreter": {
      "hash": "9334ca9c3f0af7274d3c2d31368b473b04b1c4cddd5298f3708d939c90041035"
    }
  },
  "cells": [
    {
      "cell_type": "markdown",
      "source": [
        "<a href=\"https://colab.research.google.com/github/IEXE-Tec/analisis_de_algoritmos/blob/main/03_02_odio_los_arrays_pares.ipynb\" target=\"_parent\"><img src=\"https://colab.research.google.com/assets/colab-badge.svg\" alt=\"Open In Colab\"/></a>"
      ],
      "metadata": {
        "id": "view-in-github",
        "colab_type": "text"
      }
    },
    {
      "cell_type": "markdown",
      "source": [
        "# Odio los Arrays pares"
      ],
      "metadata": {
        "id": "R6CPcZbIi8Fs"
      }
    },
    {
      "cell_type": "markdown",
      "source": [
        "En este problema recibiras una lista con caracteres binarios {0,1}*. L a idea es eliminar todas las sub-cadenas o sub-strings de tamaño par que contengan solo 0's o solo 1's.  Incluso cuando estas sub-cadenas son creadas al eliminiar otras subcadenas. Solo puedes eliminar cadenas por pares. (Ve los ejemplos por si tienes dudas).\n",
        "Basicamente debes regresar cadenas sin sub-cadenas pares.  \n",
        "Si la cadena queda vacia regresa \"Helado es el vacio\"."
      ],
      "metadata": {
        "id": "lfI8egJsmE5D"
      }
    },
    {
      "cell_type": "markdown",
      "source": [
        "**Ejemplos**:\n",
        "+ `101001` regresa `10`\n",
        "+ `1` regresa `1`\n",
        "+ ` ` regresa `Helado es el vacio`\n",
        "+ `0011` regresa `Helado es el vacio`\n",
        "+ `101` regresa `101`\n",
        "+ `1001` regresa `Helado es el vacio`\n",
        "+ `10001` regresa `101`\n",
        "+ `100001` regresa `Helado es el vacio`\n",
        "+ `1000001` regresa `101`"
      ],
      "metadata": {
        "id": "vZRYWlJinS_F"
      }
    },
    {
      "cell_type": "markdown",
      "source": [
        "**Condiciones**:\n",
        "+ Las cadenas pueden estar vacias, o no contener cadenas pares de substrings con ceros y unos.\n",
        "+ Si la cadena esta vacia regresa \"Helado es el vacio\" (sin las comillas)\n",
        "+ Solo puedes usar listas `[]`, y las operaciones basicas definidas en nuestras estructuras de stack, y colas.  \n",
        "+ Solo recibiras cadenas con `0`s y `1`s o vacio `''`.\n",
        "\n",
        "**Hint**: Recuerda que puedes concatenar cadenas de texto de un array usando `''.join(stack)`\n"
      ],
      "metadata": {
        "id": "i-1pdTs_mv0Q"
      }
    },
    {
      "cell_type": "markdown",
      "source": [
        "## Tu sulucion"
      ],
      "metadata": {
        "id": "3o0nktmTnR8H"
      }
    },
    {
      "cell_type": "code",
      "execution_count": 34,
      "source": [
        "'''\r\n",
        "def respuesta_pares(arr=''):\r\n",
        "  stack = []\r\n",
        "\r\n",
        "  # Condicion final\r\n",
        "  if len(stack) > 0:\r\n",
        "    return ''.join(stack)\r\n",
        "  else:\r\n",
        "    return 'Helado es el vacio\r\n",
        "'''\r\n",
        "def respuesta_pares(arr):\r\n",
        "    nueva = []\r\n",
        "    for dato in arr:\r\n",
        "        if dato != 0:\r\n",
        "            nueva.append(dato)\r\n",
        "    return 'helado es el vacio'"
      ],
      "outputs": [],
      "metadata": {
        "id": "rsZRtJnBnud2"
      }
    },
    {
      "cell_type": "code",
      "execution_count": 35,
      "source": [
        "respuesta_pares(arr='')"
      ],
      "outputs": [
        {
          "output_type": "execute_result",
          "data": {
            "text/plain": [
              "'helado es el vacio'"
            ]
          },
          "metadata": {},
          "execution_count": 35
        }
      ],
      "metadata": {
        "colab": {
          "base_uri": "https://localhost:8080/",
          "height": 41
        },
        "id": "j5yFAmhw0smF",
        "outputId": "ff91e4f4-94f6-49f1-9038-1a63c24e6948"
      }
    },
    {
      "cell_type": "markdown",
      "source": [
        "## Pruebas"
      ],
      "metadata": {
        "id": "YURh5vOd1-qx"
      }
    },
    {
      "cell_type": "code",
      "execution_count": 36,
      "source": [
        "import unittest\r\n",
        "\r\n",
        "\r\n",
        "class PruebaOdioPares(unittest.TestCase):\r\n",
        "\r\n",
        "  def prueba(self, fun_solucion):\r\n",
        "    dict_pruebas = {\r\n",
        "        1:('101001','10'),\r\n",
        "        2: ('1', '1'),\r\n",
        "        3: ('0', '0'),\r\n",
        "        4: ('', 'Helado es el vacio'),\r\n",
        "        5: ('11', 'Helado es el vacio'),\r\n",
        "        6: ('0011', 'Helado es el vacio'),\r\n",
        "        7: ('1001', 'Helado es el vacio'),\r\n",
        "        8: ('101', '101'),\r\n",
        "        10: ('1001', 'Helado es el vacio'),\r\n",
        "        9: ('10001', '101'),\r\n",
        "        10: ('100001','Helado es el vacio'),\r\n",
        "        11: ('1000001','101'),\r\n",
        "    }\r\n",
        "    sol = 'Error, tu funcion no regresa nada'\r\n",
        "\r\n",
        "    for p in dict_pruebas.values():\r\n",
        "      try:\r\n",
        "        sol = fun_solucion(arr=p[0])\r\n",
        "        self.assertEqual(sol, p[1])\r\n",
        "      except AssertionError as e:\r\n",
        "        print(f'Fallo! cadena={p[0]},  output={sol}, esperada={p[1]}')"
      ],
      "outputs": [],
      "metadata": {
        "id": "0bV5vPfE2A1-"
      }
    },
    {
      "cell_type": "code",
      "execution_count": 37,
      "source": [
        "t = PruebaOdioPares()\r\n",
        "t.prueba(respuesta_pares)"
      ],
      "outputs": [
        {
          "output_type": "stream",
          "name": "stdout",
          "text": [
            "Fallo! cadena=101001,  output=helado es el vacio, esperada=10\n",
            "Fallo! cadena=1,  output=helado es el vacio, esperada=1\n",
            "Fallo! cadena=0,  output=helado es el vacio, esperada=0\n",
            "Fallo! cadena=,  output=helado es el vacio, esperada=Helado es el vacio\n",
            "Fallo! cadena=11,  output=helado es el vacio, esperada=Helado es el vacio\n",
            "Fallo! cadena=0011,  output=helado es el vacio, esperada=Helado es el vacio\n",
            "Fallo! cadena=1001,  output=helado es el vacio, esperada=Helado es el vacio\n",
            "Fallo! cadena=101,  output=helado es el vacio, esperada=101\n",
            "Fallo! cadena=100001,  output=helado es el vacio, esperada=Helado es el vacio\n",
            "Fallo! cadena=10001,  output=helado es el vacio, esperada=101\n",
            "Fallo! cadena=1000001,  output=helado es el vacio, esperada=101\n"
          ]
        }
      ],
      "metadata": {
        "colab": {
          "base_uri": "https://localhost:8080/"
        },
        "id": "R30stDb14ODm",
        "outputId": "89d9c253-3e25-42b4-abcc-0ac8a1a0d0e4"
      }
    }
  ]
}