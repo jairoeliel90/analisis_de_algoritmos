{
  "nbformat": 4,
  "nbformat_minor": 2,
  "metadata": {
    "colab": {
      "name": "2_1_problem_anagram.ipynb",
      "provenance": [],
      "collapsed_sections": [],
      "authorship_tag": "ABX9TyNBoqrQzSHRyVPNcunX9D59",
      "include_colab_link": true
    },
    "kernelspec": {
      "name": "python3",
      "display_name": "Python 3.8.6 64-bit"
    },
    "language_info": {
      "name": "python",
      "version": "3.8.6",
      "mimetype": "text/x-python",
      "codemirror_mode": {
        "name": "ipython",
        "version": 3
      },
      "pygments_lexer": "ipython3",
      "nbconvert_exporter": "python",
      "file_extension": ".py"
    },
    "interpreter": {
      "hash": "9334ca9c3f0af7274d3c2d31368b473b04b1c4cddd5298f3708d939c90041035"
    }
  },
  "cells": [
    {
      "cell_type": "markdown",
      "source": [
        "<a href=\"https://colab.research.google.com/github/IEXE-Tec/analisis_de_algoritmos/blob/main/2_1_problem_anagram.ipynb\" target=\"_parent\"><img src=\"https://colab.research.google.com/assets/colab-badge.svg\" alt=\"Open In Colab\"/></a>"
      ],
      "metadata": {
        "id": "view-in-github",
        "colab_type": "text"
      }
    },
    {
      "cell_type": "markdown",
      "source": [
        "# Deteccion de Angramas"
      ],
      "metadata": {
        "id": "y7HNVu0reWnD"
      }
    },
    {
      "cell_type": "markdown",
      "source": [
        "Dadas dos `strings` detectar si son anagramas.  \n",
        "Un [**anagrama**](https://es.wikipedia.org/wiki/Anagrama) es una palabra o frase que resulta de la transposición de letras de otra palabra o frase. Dicho de otra forma, una palabra es anagrama de otra si las dos tienen las mismas letras, con el mismo número de apariciones, pero en un orden diferente.  "
      ],
      "metadata": {
        "id": "NF2UoOnWenIo"
      }
    },
    {
      "cell_type": "markdown",
      "source": [
        "Condiciones:\n",
        "+ Ignorar espacios, tabs, guiones, y cualquier caracter que no sea del alafabeto, etc...\n",
        "+ Ignorar mayusculas o minisculas (a & A son la misma letra)\n",
        "+ Caracteres en ingles utf-8 (sin acentos)\n",
        "+ **No puedes importar librerias**\n",
        "+ **No puedes usar funciones de ordenamiento nativas de python**"
      ],
      "metadata": {
        "id": "5qMVgx3Le0JP"
      }
    },
    {
      "cell_type": "markdown",
      "source": [
        "Ejemplos de anagramas:\n",
        "+ `para`, `rapa`, `par a`\n",
        "+ [ejemplos](https://www.ejemplos.co/50-ejemplos-de-anagramas/)"
      ],
      "metadata": {
        "id": "iwcHKUcsfEm8"
      }
    },
    {
      "cell_type": "markdown",
      "source": [
        "## Tu solucion"
      ],
      "metadata": {
        "id": "njvfDHP6f8-V"
      }
    },
    {
      "cell_type": "code",
      "execution_count": 16,
      "source": [
        "''' \r\n",
        "Utiliza este espacio para poner tu solucion.\r\n",
        "No puedes usar las funciones de sort\r\n",
        "'''\r\n",
        "def anagram(p1, p2):\r\n",
        "\t#Copiamos p1, para iterar sobre ella\r\n",
        "\tp1_iter = p1\r\n",
        "\t#Pasamos nuestras 2 palabras a listas\r\n",
        "\tp1_lista = list(p1)\r\n",
        "\tp2_lista = list(p2)\r\n",
        "\r\n",
        "\t#Iteramos sobre nuestra copia\r\n",
        "\tfor letra in p1_iter:\r\n",
        "\t#Si las palabras son anagramas, ambas listas deberian quedar\r\n",
        "\t#vacias. Si no, es porque no son anagramas.\r\n",
        "\t    if p1_lista and p2_lista:\r\n",
        "\t\t    return False\r\n",
        "\t    else:\r\n",
        "\t\t    return True\r\n",
        "#def anagram(ana1='', ana2=''):\r\n",
        "\r\n",
        " # return False "
      ],
      "outputs": [],
      "metadata": {
        "id": "GHq_fdFRgFDP"
      }
    },
    {
      "cell_type": "markdown",
      "source": [
        "## Pruebas"
      ],
      "metadata": {
        "id": "4PSvKxO7gnS7"
      }
    },
    {
      "cell_type": "code",
      "execution_count": 17,
      "source": [
        "import unittest \r\n",
        "class PruebaAnagramas(unittest.TestCase):\r\n",
        "  \r\n",
        "  def prueba(self, fun_solucion):\r\n",
        "    # Anagrams\r\n",
        "    anagrams_d = {\r\n",
        "    1:('Mother-in-law' , 'Hitler woman'),\r\n",
        "    2: ('Debit card' , 'Bad credit'),\r\n",
        "    3: ('Dormitory' , 'Dirty room'),\r\n",
        "    4: ('The earthquakes' , 'The queer shakes'),\r\n",
        "    5: ('Astronomer' , 'Moon starrer'),\r\n",
        "    6: ('Punishments' , 'Nine thumps'),\r\n",
        "    7: ('School master' , 'The classroom'),\r\n",
        "    8: ('àrbol' , 'là---bor')\r\n",
        "    }\r\n",
        "\r\n",
        "    # No anagramas\r\n",
        "    no_anagrams_d = {\r\n",
        "    1:('Motherr-in-law' , 'Hitler woman'),\r\n",
        "    2: ('Debiit card' , 'Bad credit'),\r\n",
        "    3: ('Dorrmitory' , 'Dirty room'),\r\n",
        "    4: ('The earthquakes' , 'The queer shakes'),\r\n",
        "    5: ('Astrodnomer' , 'Moon starrer'),\r\n",
        "    6: ('Punishfhments' , 'Nine thumps'),\r\n",
        "    7: ('Schoool master' , 'The classroom'),\r\n",
        "    8: ('àrbol' , 'là---borr')\r\n",
        "    }\r\n",
        "    \r\n",
        "    for ana in anagrams_d.values():\r\n",
        "      try:\r\n",
        "        self.assertTrue(fun_solucion(ana[0], ana[1]))\r\n",
        "      except AssertionError as e:\r\n",
        "        print('Fallo, es un anagrama (True): ',ana)\r\n",
        "    for ana in no_anagrams_d.values():\r\n",
        "      try:\r\n",
        "        self.assertFalse(fun_solucion(ana[0], ana[1]))\r\n",
        "      except AssertionError as e:\r\n",
        "        print('Fallo, no es un anagrama (False): ',ana)"
      ],
      "outputs": [],
      "metadata": {
        "id": "w5S552VohIa1"
      }
    },
    {
      "cell_type": "code",
      "execution_count": 18,
      "source": [
        "t = PruebaAnagramas()\r\n",
        "t.prueba(anagram)"
      ],
      "outputs": [
        {
          "output_type": "stream",
          "name": "stdout",
          "text": [
            "Fallo, es un anagrama (True):  ('Mother-in-law', 'Hitler woman')\n",
            "Fallo, es un anagrama (True):  ('Debit card', 'Bad credit')\n",
            "Fallo, es un anagrama (True):  ('Dormitory', 'Dirty room')\n",
            "Fallo, es un anagrama (True):  ('The earthquakes', 'The queer shakes')\n",
            "Fallo, es un anagrama (True):  ('Astronomer', 'Moon starrer')\n",
            "Fallo, es un anagrama (True):  ('Punishments', 'Nine thumps')\n",
            "Fallo, es un anagrama (True):  ('School master', 'The classroom')\n",
            "Fallo, es un anagrama (True):  ('àrbol', 'là---bor')\n"
          ]
        }
      ],
      "metadata": {
        "colab": {
          "base_uri": "https://localhost:8080/"
        },
        "id": "9XNCQyaKhg_L",
        "outputId": "28e9f11a-8017-4575-a886-ab6362e9c83e"
      }
    }
  ]
}