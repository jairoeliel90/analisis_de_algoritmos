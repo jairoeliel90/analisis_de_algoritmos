{
  "nbformat": 4,
  "nbformat_minor": 2,
  "metadata": {
    "colab": {
      "name": "2_2_problem_pair_sum.ipynb",
      "provenance": [],
      "collapsed_sections": [],
      "authorship_tag": "ABX9TyODkdM4OXogdhVobisy4dVl",
      "include_colab_link": true
    },
    "kernelspec": {
      "name": "python3",
      "display_name": "Python 3.8.6 64-bit"
    },
    "language_info": {
      "name": "python",
      "version": "3.8.6",
      "mimetype": "text/x-python",
      "codemirror_mode": {
        "name": "ipython",
        "version": 3
      },
      "pygments_lexer": "ipython3",
      "nbconvert_exporter": "python",
      "file_extension": ".py"
    },
    "interpreter": {
      "hash": "9334ca9c3f0af7274d3c2d31368b473b04b1c4cddd5298f3708d939c90041035"
    }
  },
  "cells": [
    {
      "cell_type": "markdown",
      "source": [
        "<a href=\"https://colab.research.google.com/github/IEXE-Tec/analisis_de_algoritmos/blob/main/02_clase_arrays/2_2_problem_pair_sum.ipynb\" target=\"_parent\"><img src=\"https://colab.research.google.com/assets/colab-badge.svg\" alt=\"Open In Colab\"/></a>"
      ],
      "metadata": {
        "id": "view-in-github",
        "colab_type": "text"
      }
    },
    {
      "cell_type": "markdown",
      "source": [
        "# Array Pair Sum"
      ],
      "metadata": {
        "id": "2EUYyFSGqrBL"
      }
    },
    {
      "cell_type": "markdown",
      "source": [
        "Dado un array de numeros enteros, regresa todos los **pares** que sumados den como resultado el entero **k**."
      ],
      "metadata": {
        "id": "_TRQqicerFFF"
      }
    },
    {
      "cell_type": "markdown",
      "source": [
        "**Condiciones**:\n",
        "+ La funcion recibe una lista con enteros.\n",
        "+ **k** es un entero.\n",
        "+ Los numeros pueden ser positivos o negativos.\n",
        "+ Solo revisa pares\n",
        "+ Si se repite algun par, solo regresalo una vez\n",
        "+ En vez de regresar los pares, regresa el numero (cardinalidad de pares)."
      ],
      "metadata": {
        "id": "4EV6FOwXsHyh"
      }
    },
    {
      "cell_type": "markdown",
      "source": [
        "**Ejemplos**:  \n",
        "`suma_pares(arr=[-1,1,-2,2,0], k=0)`  \n",
        " + Encontraria `[(-1,1), (-2,2)]`\n",
        " + Regresaria `2`, pues hay dos pares\n",
        "\n",
        "\n",
        "---\n",
        "\n",
        "`suma_pares(arr=[-1,1,-2,2,0], k=1)`  \n",
        " + Encontraria `[(-1,2), (0,1)]`\n",
        " + Regresaria `2`, pues hay dos pares\n",
        "\n",
        "\n",
        "\n",
        "---\n",
        "`suma_pares(arr=[-2,-2,0,0], k=-2)`  \n",
        " + Encontraria `[(-2,0)]`\n",
        " + Regresaria `1`, pues hay solo un par unico. A pesar de que -2 y 0 aparecen dos veces.\n",
        "\n",
        "\n",
        "\n",
        "---\n",
        "\n",
        "`suma_pares(arr=[-1,1,-2,2,0], k=10)`  \n",
        " + Encontraria `[]`\n",
        " + Regresaria `0`, pues no hay pares que sumen k.\n",
        "\n",
        "\n",
        "\n",
        "---\n",
        "\n",
        "`suma_pares(arr=[], k=10)`  \n",
        " + Encontraria `[]`\n",
        " + Regresaria `0`, pues no hay pares que sumen k.\n",
        "\n"
      ],
      "metadata": {
        "id": "KL1sOVM8sg4V"
      }
    },
    {
      "cell_type": "markdown",
      "source": [
        "**Hint**: Puedes usar la funcion `set` de python."
      ],
      "metadata": {
        "id": "DN3vqLsFtn3u"
      }
    },
    {
      "cell_type": "markdown",
      "source": [
        "## Tu solucion"
      ],
      "metadata": {
        "id": "Hk0K0Nz1u-Mk"
      }
    },
    {
      "cell_type": "markdown",
      "source": [],
      "metadata": {}
    },
    {
      "cell_type": "code",
      "execution_count": 1,
      "source": [
        "## TODO: Solucion\r\n",
        "\"\"\"solution to the array pair sum problem\"\"\"\r\n",
        "\r\n",
        "def suma_pares(arr, k):\r\n",
        "    \"\"\"\r\n",
        "    returns the array of pairs using an iterative method.\r\n",
        "    complexity: O(n^2)\r\n",
        "    \"\"\"\r\n",
        "\r\n",
        "    result = []\r\n",
        "\r\n",
        "    for i in range(len(arr)):\r\n",
        "        for j in range(i + 1, len(arr)):\r\n",
        "            if arr[i] + arr[j] == k:\r\n",
        "                result.append([arr[i], arr[j]])\r\n",
        "\r\n",
        "    return result\r\n",
        "\r\n",
        "\r\n",
        "\r\n",
        "#def suma_pares(arr=[], k=0):\r\n",
        " # num_pares = 2\r\n",
        "\r\n",
        " # return num_pares"
      ],
      "outputs": [],
      "metadata": {
        "id": "0bDzBkt6u_e7"
      }
    },
    {
      "cell_type": "code",
      "execution_count": 2,
      "source": [
        "import unittest\r\n",
        "\r\n",
        "class PuebaSumaPares(unittest.TestCase):\r\n",
        "\r\n",
        "  def prueba(self, fun_solucion):\r\n",
        "    sumas_prueba = {\r\n",
        "        1:([8, 7, 2, 5, 3, 1], 10,2),\r\n",
        "        2: ([-1,1,-2,2,0], 0, 2),\r\n",
        "        3: ([], 0, 0),\r\n",
        "        4: ([-2, -2, 0, 0], 1, 0)\r\n",
        "    }\r\n",
        "    sol = 'Error'\r\n",
        "    for p in sumas_prueba.values():\r\n",
        "      try:\r\n",
        "        sol = fun_solucion(arr=p[0], k=p[1])\r\n",
        "        self.assertEqual(sol, p[2])\r\n",
        "      except AssertionError as e:\r\n",
        "        print(f'Fallo! arr={p[0]},  k={p[1]},  output={sol}, esperada={p[2]}')"
      ],
      "outputs": [],
      "metadata": {
        "id": "OrXZRLLIvXHq"
      }
    },
    {
      "cell_type": "code",
      "execution_count": 3,
      "source": [
        "t = PuebaSumaPares()\r\n",
        "t.prueba(suma_pares)"
      ],
      "outputs": [
        {
          "output_type": "stream",
          "name": "stdout",
          "text": [
            "Fallo! arr=[8, 7, 2, 5, 3, 1],  k=10,  output=[[8, 2], [7, 3]], esperada=2\n",
            "Fallo! arr=[-1, 1, -2, 2, 0],  k=0,  output=[[-1, 1], [-2, 2]], esperada=2\n",
            "Fallo! arr=[],  k=0,  output=[], esperada=0\n",
            "Fallo! arr=[-2, -2, 0, 0],  k=1,  output=[], esperada=0\n"
          ]
        }
      ],
      "metadata": {
        "colab": {
          "base_uri": "https://localhost:8080/"
        },
        "id": "XuypZa9zvivB",
        "outputId": "398d3c92-9a9d-43ca-b5c1-3906dc61b60d"
      }
    }
  ]
}