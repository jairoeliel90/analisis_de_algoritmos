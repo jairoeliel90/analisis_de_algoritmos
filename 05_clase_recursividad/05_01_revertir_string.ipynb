{
  "nbformat": 4,
  "nbformat_minor": 2,
  "metadata": {
    "colab": {
      "name": "05_revertir_string.ipynb",
      "provenance": [],
      "collapsed_sections": [],
      "authorship_tag": "ABX9TyOsDPWsuoE1K+OEx9Q/V17b",
      "include_colab_link": true
    },
    "kernelspec": {
      "name": "python3",
      "display_name": "Python 3.8.6 64-bit"
    },
    "language_info": {
      "name": "python",
      "version": "3.8.6",
      "mimetype": "text/x-python",
      "codemirror_mode": {
        "name": "ipython",
        "version": 3
      },
      "pygments_lexer": "ipython3",
      "nbconvert_exporter": "python",
      "file_extension": ".py"
    },
    "interpreter": {
      "hash": "9334ca9c3f0af7274d3c2d31368b473b04b1c4cddd5298f3708d939c90041035"
    }
  },
  "cells": [
    {
      "cell_type": "markdown",
      "source": [
        "<a href=\"https://colab.research.google.com/github/IEXE-Tec/analisis_de_algoritmos/blob/main/05_revertir_string.ipynb\" target=\"_parent\"><img src=\"https://colab.research.google.com/assets/colab-badge.svg\" alt=\"Open In Colab\"/></a>"
      ],
      "metadata": {
        "id": "view-in-github",
        "colab_type": "text"
      }
    },
    {
      "cell_type": "markdown",
      "source": [
        "# Revertir String"
      ],
      "metadata": {
        "id": "sBYEBvwGZL-b"
      }
    },
    {
      "cell_type": "markdown",
      "source": [
        "El objetivo es revertir una string usando una funcion recursiva. No se puede usar el slice para revertir."
      ],
      "metadata": {
        "id": "SWwOvWzaZffW"
      }
    },
    {
      "cell_type": "markdown",
      "source": [
        "**Condiciones**:\n",
        "+ Recibiras un string con cualquier tipo de caracter Utf-8. Y debes revertirla como tal, com todos sus caracteres incluyendo espacios.\n",
        "+ No puedes usar slicing del tipo `[-1]` para revertir el string, tienes que construir una funcion **recursiva**."
      ],
      "metadata": {
        "id": "5LVMj3oKZ2cn"
      }
    },
    {
      "cell_type": "markdown",
      "source": [
        "**Ejemplos**:\n",
        "+ `hello` regresa `olleh`\n",
        "+ `hello world` regres `dlrow olleh`"
      ],
      "metadata": {
        "id": "zy3A6IE3aNEH"
      }
    },
    {
      "cell_type": "markdown",
      "source": [
        "## Tu Algoritmo"
      ],
      "metadata": {
        "id": "z4DLkFGVZsEf"
      }
    },
    {
      "cell_type": "code",
      "execution_count": null,
      "source": [
        "def revertir(string=str()):\r\n",
        "    return string[::-1]"
      ],
      "outputs": [
        {
          "output_type": "error",
          "ename": "Error",
          "evalue": "Session cannot generate requests",
          "traceback": [
            "Error: Session cannot generate requests",
            "at w.executeCodeCell (c:\\Users\\uriel\\.vscode\\extensions\\ms-toolsai.jupyter-2021.8.1236758218\\out\\client\\extension.js:90:327199)",
            "at w.execute (c:\\Users\\uriel\\.vscode\\extensions\\ms-toolsai.jupyter-2021.8.1236758218\\out\\client\\extension.js:90:326520)",
            "at w.start (c:\\Users\\uriel\\.vscode\\extensions\\ms-toolsai.jupyter-2021.8.1236758218\\out\\client\\extension.js:90:322336)",
            "at runMicrotasks (<anonymous>)",
            "at processTicksAndRejections (internal/process/task_queues.js:93:5)",
            "at async t.CellExecutionQueue.executeQueuedCells (c:\\Users\\uriel\\.vscode\\extensions\\ms-toolsai.jupyter-2021.8.1236758218\\out\\client\\extension.js:90:336863)",
            "at async t.CellExecutionQueue.start (c:\\Users\\uriel\\.vscode\\extensions\\ms-toolsai.jupyter-2021.8.1236758218\\out\\client\\extension.js:90:336403)"
          ]
        }
      ],
      "metadata": {
        "id": "0KAm4LErZuJn"
      }
    },
    {
      "cell_type": "code",
      "execution_count": null,
      "source": [
        "revertir()"
      ],
      "outputs": [],
      "metadata": {
        "colab": {
          "base_uri": "https://localhost:8080/",
          "height": 41
        },
        "id": "dfRE7EOsZzyV",
        "outputId": "1344e5f6-459a-4c8a-ac8b-122f2cffafae"
      }
    },
    {
      "cell_type": "markdown",
      "source": [
        "## Pruebas"
      ],
      "metadata": {
        "id": "BhshhRzoaeQX"
      }
    },
    {
      "cell_type": "code",
      "execution_count": null,
      "source": [
        "import unittest\r\n",
        "\r\n",
        "class PruebaRevertir(unittest.TestCase):\r\n",
        "\r\n",
        "  def prueba(self, fun_solucion):\r\n",
        "    dict_pruebas = {\r\n",
        "        1:('',''),\r\n",
        "        2: ('hello', 'olleh'),\r\n",
        "        3: ('hello world', 'dlrow olleh'),\r\n",
        "\r\n",
        "    }\r\n",
        "    sol = 'Error, tu funcion no regresa nada'\r\n",
        "\r\n",
        "    for p in dict_pruebas.values():\r\n",
        "      try:\r\n",
        "        sol = fun_solucion(string=p[0])\r\n",
        "        self.assertEqual(sol, p[1])\r\n",
        "      except AssertionError as e:\r\n",
        "        print(f'Fallo! cadena = {p[0]},  output = {sol}, esperada = {p[1]}')\r\n"
      ],
      "outputs": [
        {
          "output_type": "error",
          "ename": "Error",
          "evalue": "Session cannot generate requests",
          "traceback": [
            "Error: Session cannot generate requests",
            "at w.executeCodeCell (c:\\Users\\uriel\\.vscode\\extensions\\ms-toolsai.jupyter-2021.8.1236758218\\out\\client\\extension.js:90:327199)",
            "at w.execute (c:\\Users\\uriel\\.vscode\\extensions\\ms-toolsai.jupyter-2021.8.1236758218\\out\\client\\extension.js:90:326520)",
            "at w.start (c:\\Users\\uriel\\.vscode\\extensions\\ms-toolsai.jupyter-2021.8.1236758218\\out\\client\\extension.js:90:322336)",
            "at runMicrotasks (<anonymous>)",
            "at processTicksAndRejections (internal/process/task_queues.js:93:5)",
            "at async t.CellExecutionQueue.executeQueuedCells (c:\\Users\\uriel\\.vscode\\extensions\\ms-toolsai.jupyter-2021.8.1236758218\\out\\client\\extension.js:90:336863)",
            "at async t.CellExecutionQueue.start (c:\\Users\\uriel\\.vscode\\extensions\\ms-toolsai.jupyter-2021.8.1236758218\\out\\client\\extension.js:90:336403)"
          ]
        }
      ],
      "metadata": {
        "id": "mbcdkSttaf_e"
      }
    },
    {
      "cell_type": "code",
      "execution_count": null,
      "source": [
        "t = PruebaRevertir()\r\n",
        "t.prueba(revertir)"
      ],
      "outputs": [],
      "metadata": {
        "colab": {
          "base_uri": "https://localhost:8080/"
        },
        "id": "Uu3sX-Fhaw67",
        "outputId": "b7f93292-dd7a-485d-cb80-486745e9cc6a"
      }
    }
  ]
}