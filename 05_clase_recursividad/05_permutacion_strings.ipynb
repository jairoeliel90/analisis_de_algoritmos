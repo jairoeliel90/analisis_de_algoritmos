{
  "nbformat": 4,
  "nbformat_minor": 2,
  "metadata": {
    "colab": {
      "name": "05_permutacion_strings.ipynb",
      "provenance": [],
      "collapsed_sections": [],
      "authorship_tag": "ABX9TyMbo1ricaExpp+DZEX3GODI",
      "include_colab_link": true
    },
    "kernelspec": {
      "name": "python3",
      "display_name": "Python 3.8.6 64-bit"
    },
    "language_info": {
      "name": "python",
      "version": "3.8.6",
      "mimetype": "text/x-python",
      "codemirror_mode": {
        "name": "ipython",
        "version": 3
      },
      "pygments_lexer": "ipython3",
      "nbconvert_exporter": "python",
      "file_extension": ".py"
    },
    "interpreter": {
      "hash": "9334ca9c3f0af7274d3c2d31368b473b04b1c4cddd5298f3708d939c90041035"
    }
  },
  "cells": [
    {
      "cell_type": "markdown",
      "source": [
        "<a href=\"https://colab.research.google.com/github/IEXE-Tec/analisis_de_algoritmos/blob/main/05_clase_recursividad/05_permutacion_strings.ipynb\" target=\"_parent\"><img src=\"https://colab.research.google.com/assets/colab-badge.svg\" alt=\"Open In Colab\"/></a>"
      ],
      "metadata": {
        "id": "view-in-github",
        "colab_type": "text"
      }
    },
    {
      "cell_type": "markdown",
      "source": [
        "# Permutacion de Strings"
      ],
      "metadata": {
        "id": "ZtsIWkdNbK3k"
      }
    },
    {
      "cell_type": "markdown",
      "source": [
        "Dada un string Utf-8 `string`, regresar todas las permutaciones posibles en una lista. cada elemento debera ser una permutacion diferente."
      ],
      "metadata": {
        "id": "we4DBpgWbuZq"
      }
    },
    {
      "cell_type": "markdown",
      "source": [
        "**Condociones**\n",
        "+ No importa el orden en que regreses las permutaciones mientras sean todas las posibles y esten en una sola lista.\n",
        "+ Usa recursividad, no puedes usar funciones preexistentes de permutacion.\n",
        "+ Tienes que utilizar todos los caracteres."
      ],
      "metadata": {
        "id": "zPOhfrFwb8Ay"
      }
    },
    {
      "cell_type": "markdown",
      "source": [
        "**Ejemplos**\n",
        "+ `'ab'` regresa `['ba', 'ab']`\n",
        "+ `'xyz'` regresa `['xyz', 'xzy', 'yxz', 'yzx', 'zxy', 'zyx']`\n",
        "+ `''` regresa `['']`\n",
        "+ `'a'` regresa `['a']`\n",
        "+ `'aa'` regresa `['aa', 'aa']`\n",
        "+ `'ll'` regresa `['ll', 'll']`\n"
      ],
      "metadata": {
        "id": "mMOdszpOcKXD"
      }
    },
    {
      "cell_type": "markdown",
      "source": [
        "## Tu algoritmo"
      ],
      "metadata": {
        "id": "i_ObYayXdL-E"
      }
    },
    {
      "cell_type": "markdown",
      "source": [
        "Esta vez de damos un esqueleto con el paso base, solo tienes que llenar el paso recursivo. Tambien puedes crear tu funcion en su totalidad, solo asegurate manetener el nombre."
      ],
      "metadata": {
        "id": "cFzEmm4cdp1E"
      }
    },
    {
      "cell_type": "code",
      "execution_count": 31,
      "source": [
        "\r\n",
        "def str_perm(string=''):        \r\n",
        "    if(len(string)==2): return [string]\r\n",
        "    result=[]\r\n",
        "    for i,v in enumerate(string):\r\n",
        "        result += [v+p for p in str_perm(string[:i]+string[i+1:])]\r\n",
        "    return result\r\n",
        "\r\n"
      ],
      "outputs": [],
      "metadata": {
        "id": "4RIm6n61dNHl"
      }
    },
    {
      "cell_type": "markdown",
      "source": [
        "## Prueba"
      ],
      "metadata": {
        "id": "I7cU4UjIeAcf"
      }
    },
    {
      "cell_type": "code",
      "execution_count": 32,
      "source": [
        "import unittest\r\n",
        "\r\n",
        "class PruebaPerm(unittest.TestCase):\r\n",
        "\r\n",
        "  def prueba(self, fun_solucion):\r\n",
        "    dict_pruebas = {\r\n",
        "        1:('',['']),\r\n",
        "        2: ('a', sorted(['a'])),\r\n",
        "        3: ('aa', sorted(['aa', 'aa'])),\r\n",
        "        4: ('xyz', sorted(['xyz', 'xzy', 'yxz', 'yzx', 'zxy', 'zyx'])),\r\n",
        "    }\r\n",
        "    sol = 'Error, tu funcion no regresa nada'\r\n",
        "\r\n",
        "    for p in dict_pruebas.values():\r\n",
        "      try:\r\n",
        "        sol = sorted(fun_solucion(string=p[0]))\r\n",
        "        self.assertEqual(sol, p[1])\r\n",
        "      except AssertionError as e:\r\n",
        "        print(f'Fallo! cadena={p[0]},  output={sol}, esperada={p[1]}')\r\n"
      ],
      "outputs": [],
      "metadata": {
        "id": "pLuzl-W2eBrc"
      }
    },
    {
      "cell_type": "code",
      "execution_count": 33,
      "source": [
        "t = PruebaPerm()\r\n",
        "t.prueba(str_perm)"
      ],
      "outputs": [
        {
          "output_type": "stream",
          "name": "stdout",
          "text": [
            "Fallo! cadena=,  output=[], esperada=['']\n",
            "Fallo! cadena=a,  output=[], esperada=['a']\n",
            "Fallo! cadena=aa,  output=['aa'], esperada=['aa', 'aa']\n",
            "Fallo! cadena=xyz,  output=['xyz', 'yxz', 'zxy'], esperada=['xyz', 'xzy', 'yxz', 'yzx', 'zxy', 'zyx']\n"
          ]
        }
      ],
      "metadata": {
        "colab": {
          "base_uri": "https://localhost:8080/"
        },
        "id": "yfInduFKe6Gj",
        "outputId": "83b7adc6-0585-40d0-a9e1-86836c212eaf"
      }
    }
  ]
}